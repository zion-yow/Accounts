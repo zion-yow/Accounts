{
 "cells": [
  {
   "cell_type": "code",
   "execution_count": 3,
   "metadata": {},
   "outputs": [],
   "source": [
    "import pandas as pd\n",
    "import openpyxl\n",
    "import tkinter.filedialog\n",
    "import datetime\n",
    "import msvcrt\n",
    "from IPython.display import display\n",
    "from tqdm import tqdm\n",
    "from random import randint\n",
    "import time"
   ]
  },
  {
   "cell_type": "markdown",
   "metadata": {},
   "source": [
    "### Input new bills records and appended to the history"
   ]
  },
  {
   "cell_type": "code",
   "execution_count": 3,
   "metadata": {},
   "outputs": [],
   "source": [
    "def strip_in_data(data):  # Remove leading and trailing spaces from column names and data.\n",
    "    data = data.rename(columns={column_name: column_name.strip() for column_name in data.columns})\n",
    "    data = data.applymap(lambda x: x.strip().strip('¥') if isinstance(x, str) else x)\n",
    "    return data\n",
    "\n",
    "\n",
    "def read_data_wx(path):  # 获取微信数据\n",
    "    d_wx = pd.read_csv(path, header=16, skipfooter=0, encoding='utf-8')  # 数据获取，微信\n",
    "    d_wx = d_wx.iloc[:, [0, 4, 7, 1, 2, 3, 5]]  # 按顺序提取所需列\n",
    "    d_wx = strip_in_data(d_wx)  # 去除列名与数值中的空格。\n",
    "    d_wx.iloc[:, 0] = d_wx.iloc[:, 0].astype('datetime64')  # 数据类型更改\n",
    "    d_wx.iloc[:, 6] = d_wx.iloc[:, 6].astype('float64')  # 数据类型更改\n",
    "    d_wx = d_wx.drop(d_wx[d_wx['收/支'] == '/'].index)  # 删除'收/支'为'/'的行\n",
    "    d_wx.rename(columns={'当前状态': '支付状态', '交易类型': '类型', '金额(元)': '金额'}, inplace=True)  # 修改列名称\n",
    "    d_wx.insert(1, '来源', \"微信\", allow_duplicates=True)  # 添加微信来源标识\n",
    "    len1 = len(d_wx)\n",
    "    print(\"Sucessfully Read \" + str(len1) + \" 「Wechat」bills\\n\")\n",
    "    return d_wx\n",
    "\n",
    "\n",
    "def read_data_zfb(path):  # 获取支付宝数据\n",
    "    d_zfb = pd.read_csv(path, header=4, skipfooter=7, encoding='gbk')  # 数据获取，支付宝\n",
    "    d_zfb = d_zfb.iloc[:, [2, 10, 11, 6, 7, 8, 9]]  # 按顺序提取所需列\n",
    "    d_zfb = strip_in_data(d_zfb)  # 去除列名与数值中的空格。\n",
    "    d_zfb.iloc[:, 0] = d_zfb.iloc[:, 0].astype('datetime64')  # 数据类型更改\n",
    "    d_zfb.iloc[:, 6] = d_zfb.iloc[:, 6].astype('float64')  # 数据类型更改\n",
    "    d_zfb = d_zfb.drop(d_zfb[d_zfb['收/支'] == ''].index)  # 删除'收/支'为空的行\n",
    "    d_zfb.rename(columns={'交易创建时间': '交易时间', '交易状态': '支付状态', '商品名称': '商品', '金额（元）': '金额'}, inplace=True)  # 修改列名称\n",
    "    d_zfb.insert(1, '来源', \"支付宝\", allow_duplicates=True)  # 添加支付宝来源标识\n",
    "    len2 = len(d_zfb)\n",
    "    print(\"Sucessfully Read \" + str(len2) + \" 「Alipay」bills\\n\")\n",
    "    return d_zfb\n",
    "\n",
    "\n",
    "def add_cols(data):  # 增加3列数据\n",
    "    # 逻辑1：取值-1 or 1。-1表示支出，1表示收入。\n",
    "    data.insert(8, '逻辑1', -1, allow_duplicates=True)  # 插入列，默认值为-1\n",
    "    for index in range(len(data.iloc[:, 2])):  # 遍历第3列的值，判断为收入，则改'逻辑1'为1\n",
    "        if data.iloc[index, 2] == '收入':\n",
    "            data.iloc[index, 8] = 1\n",
    "\n",
    "        # update 2021/12/29: 修复支付宝理财收支逻辑bug\n",
    "        elif data.iloc[index, 5] == '蚂蚁财富-蚂蚁（杭州）基金销售有限公司' and '卖出' in data.iloc[index, 6]:\n",
    "            data.iloc[index, 8] = 1\n",
    "        elif data.iloc[index, 5] == '蚂蚁财富-蚂蚁（杭州）基金销售有限公司' and '转换至' in data.iloc[index, 6]:\n",
    "            data.iloc[index, 8] = 0\n",
    "        elif data.iloc[index, 2] == '其他' and '收益发放' in data.iloc[index, 6]:\n",
    "            data.iloc[index, 8] = 1\n",
    "        elif data.iloc[index, 2] == '其他' and '现金分红' in data.iloc[index, 6]:\n",
    "            data.iloc[index, 8] = 1\n",
    "        elif data.iloc[index, 2] == '其他' and '买入' in data.iloc[index, 6]:\n",
    "            data.iloc[index, 8] = -1\n",
    "        elif data.iloc[index, 2] == '其他':\n",
    "            data.iloc[index, 8] = 0\n",
    "\n",
    "    # 逻辑2：取值0 or 1。1表示计入，0表示不计入。\n",
    "    data.insert(9, '逻辑2', 1, allow_duplicates=True)  # 插入列，默认值为1\n",
    "    for index in range(len(data.iloc[:, 3])):  # 遍历第4列的值，判断为资金流动，则改'逻辑2'为0\n",
    "        col3 = data.iloc[index, 3]\n",
    "        if (col3 == '提现已到账') or (col3 == '已全额退款') or (col3 == '已退款') or (col3 == '退款成功') or (col3 == '还款成功') or (\n",
    "                col3 == '交易关闭'):\n",
    "            data.iloc[index, 9] = 0\n",
    "\n",
    "    # 月份\n",
    "    data.insert(1, '月份', 0, allow_duplicates=True)  # 插入列，默认值为0\n",
    "    for index in range(len(data.iloc[:, 0])):\n",
    "        time = data.iloc[index, 0]\n",
    "        data.iloc[index, 1] = time.month  # 访问月份属性的值，赋给这月份列\n",
    "\n",
    "    # 乘后金额\n",
    "    data.insert(11, '乘后金额', 0, allow_duplicates=True)  # 插入列，默认值为0\n",
    "    for index in range(len(data.iloc[:, 8])):\n",
    "        money = data.iloc[index, 8] * data.iloc[index, 9] * data.iloc[index, 10]\n",
    "        data.iloc[index, 11] = money\n",
    "    return data"
   ]
  },
  {
   "cell_type": "markdown",
   "metadata": {},
   "source": [
    "### Here is an example, and package this part into `DataHandler.py`"
   ]
  },
  {
   "cell_type": "code",
   "execution_count": 4,
   "metadata": {},
   "outputs": [
    {
     "name": "stdout",
     "output_type": "stream",
     "text": [
      "Sucessfully Read 148 「Alipay」bills\n",
      "\n"
     ]
    },
    {
     "name": "stderr",
     "output_type": "stream",
     "text": [
      "C:\\Users\\Administrator\\AppData\\Local\\Temp\\ipykernel_8328\\3605182696.py:22: ParserWarning: Falling back to the 'python' engine because the 'c' engine does not support skipfooter; you can avoid this warning by specifying engine='python'.\n",
      "  d_zfb = pd.read_csv(path, header=4, skipfooter=7, encoding='gbk')  # 数据获取，支付宝\n"
     ]
    }
   ],
   "source": [
    "# New bills\n",
    "filename = r'New_records_alipay.csv'\n",
    "path = r'D:\\Projects\\Accounts\\Dataloader'\n",
    "data_zfb = read_data_zfb(path + '\\\\' + filename) # New bills\n",
    "_new_part = add_cols(data_zfb)\n",
    "_new_part.to_csv(path + '\\\\' + 'New_records_alipay.csv')\n",
    "\n",
    "new_part = pd.read_csv(path + '\\\\' + 'New_records_alipay.csv', index_col=0).fillna('')\n"
   ]
  },
  {
   "cell_type": "code",
   "execution_count": 6,
   "metadata": {},
   "outputs": [],
   "source": [
    "# Historic bills\n",
    "his_path = r'D:\\Projects\\Accounts\\Dataloader\\his\\History_records_alipay.csv'\n",
    "his_part = pd.read_csv(his_path, index_col=0).fillna('') # New bills"
   ]
  },
  {
   "cell_type": "code",
   "execution_count": 8,
   "metadata": {},
   "outputs": [],
   "source": [
    "data_merge = pd.concat([his_part,new_part]).drop_duplicates()"
   ]
  },
  {
   "cell_type": "code",
   "execution_count": 9,
   "metadata": {},
   "outputs": [
    {
     "data": {
      "text/html": [
       "<div>\n",
       "<style scoped>\n",
       "    .dataframe tbody tr th:only-of-type {\n",
       "        vertical-align: middle;\n",
       "    }\n",
       "\n",
       "    .dataframe tbody tr th {\n",
       "        vertical-align: top;\n",
       "    }\n",
       "\n",
       "    .dataframe thead th {\n",
       "        text-align: right;\n",
       "    }\n",
       "</style>\n",
       "<table border=\"1\" class=\"dataframe\">\n",
       "  <thead>\n",
       "    <tr style=\"text-align: right;\">\n",
       "      <th></th>\n",
       "      <th>交易时间</th>\n",
       "      <th>月份</th>\n",
       "      <th>来源</th>\n",
       "      <th>收/支</th>\n",
       "      <th>支付状态</th>\n",
       "      <th>类型</th>\n",
       "      <th>交易对方</th>\n",
       "      <th>商品</th>\n",
       "      <th>金额</th>\n",
       "      <th>逻辑1</th>\n",
       "      <th>逻辑2</th>\n",
       "      <th>乘后金额</th>\n",
       "    </tr>\n",
       "  </thead>\n",
       "  <tbody>\n",
       "    <tr>\n",
       "      <th>4204</th>\n",
       "      <td>2020-12-01 10:31:33</td>\n",
       "      <td>12</td>\n",
       "      <td>支付宝</td>\n",
       "      <td>不计收支</td>\n",
       "      <td>交易成功</td>\n",
       "      <td>即时到账交易</td>\n",
       "      <td>蚂蚁财富-蚂蚁（杭州）基金销售有限公司</td>\n",
       "      <td>蚂蚁财富-天弘中证银行指数A-买入</td>\n",
       "      <td>23.0</td>\n",
       "      <td>-1</td>\n",
       "      <td>1</td>\n",
       "      <td>-23.0</td>\n",
       "    </tr>\n",
       "    <tr>\n",
       "      <th>4203</th>\n",
       "      <td>2020-12-01 13:32:39</td>\n",
       "      <td>12</td>\n",
       "      <td>支付宝</td>\n",
       "      <td>不计收支</td>\n",
       "      <td>交易成功</td>\n",
       "      <td>支付宝担保交易</td>\n",
       "      <td>ellen0wang</td>\n",
       "      <td>基础综合英语 学生用书   研究生英语教材 pdf版电子书</td>\n",
       "      <td>5.5</td>\n",
       "      <td>-1</td>\n",
       "      <td>1</td>\n",
       "      <td>-5.5</td>\n",
       "    </tr>\n",
       "    <tr>\n",
       "      <th>4202</th>\n",
       "      <td>2020-12-01 13:37:35</td>\n",
       "      <td>12</td>\n",
       "      <td>支付宝</td>\n",
       "      <td>支出</td>\n",
       "      <td>交易成功</td>\n",
       "      <td>即时到账交易</td>\n",
       "      <td>App Store &amp; Apple Music</td>\n",
       "      <td>App Store &amp; Apple Music: 于 11.30完成的购买</td>\n",
       "      <td>3.0</td>\n",
       "      <td>-1</td>\n",
       "      <td>1</td>\n",
       "      <td>-3.0</td>\n",
       "    </tr>\n",
       "    <tr>\n",
       "      <th>4201</th>\n",
       "      <td>2020-12-01 21:53:47</td>\n",
       "      <td>12</td>\n",
       "      <td>支付宝</td>\n",
       "      <td>不计收支</td>\n",
       "      <td>交易成功</td>\n",
       "      <td>即时到账交易</td>\n",
       "      <td>麦当劳(深南西路分店餐厅)</td>\n",
       "      <td>麦当劳餐厅(深圳) 有限公司</td>\n",
       "      <td>6.0</td>\n",
       "      <td>-1</td>\n",
       "      <td>1</td>\n",
       "      <td>-6.0</td>\n",
       "    </tr>\n",
       "    <tr>\n",
       "      <th>4200</th>\n",
       "      <td>2020-12-01 21:54:36</td>\n",
       "      <td>12</td>\n",
       "      <td>支付宝</td>\n",
       "      <td>不计收支</td>\n",
       "      <td>交易成功</td>\n",
       "      <td>即时到账交易</td>\n",
       "      <td>麦当劳(深南西路分店餐厅)</td>\n",
       "      <td>麦当劳餐厅(深圳) 有限公司</td>\n",
       "      <td>0.1</td>\n",
       "      <td>-1</td>\n",
       "      <td>1</td>\n",
       "      <td>-0.1</td>\n",
       "    </tr>\n",
       "    <tr>\n",
       "      <th>...</th>\n",
       "      <td>...</td>\n",
       "      <td>...</td>\n",
       "      <td>...</td>\n",
       "      <td>...</td>\n",
       "      <td>...</td>\n",
       "      <td>...</td>\n",
       "      <td>...</td>\n",
       "      <td>...</td>\n",
       "      <td>...</td>\n",
       "      <td>...</td>\n",
       "      <td>...</td>\n",
       "      <td>...</td>\n",
       "    </tr>\n",
       "    <tr>\n",
       "      <th>4</th>\n",
       "      <td>2023-12-09 20:16:12</td>\n",
       "      <td>12</td>\n",
       "      <td>支付宝</td>\n",
       "      <td>支出</td>\n",
       "      <td>交易成功</td>\n",
       "      <td>即时到账交易</td>\n",
       "      <td>Valve</td>\n",
       "      <td>S2P1172140557 Steam Purchase</td>\n",
       "      <td>15.8</td>\n",
       "      <td>-1</td>\n",
       "      <td>1</td>\n",
       "      <td>-15.8</td>\n",
       "    </tr>\n",
       "    <tr>\n",
       "      <th>3</th>\n",
       "      <td>2023-12-10 13:13:45</td>\n",
       "      <td>12</td>\n",
       "      <td>支付宝</td>\n",
       "      <td>不计收支</td>\n",
       "      <td>交易成功</td>\n",
       "      <td>即时到账交易</td>\n",
       "      <td>上海都畅数字技术有限公司</td>\n",
       "      <td>三林东--西藏南路</td>\n",
       "      <td>4.0</td>\n",
       "      <td>-1</td>\n",
       "      <td>1</td>\n",
       "      <td>-4.0</td>\n",
       "    </tr>\n",
       "    <tr>\n",
       "      <th>2</th>\n",
       "      <td>2023-12-10 13:21:41</td>\n",
       "      <td>12</td>\n",
       "      <td>支付宝</td>\n",
       "      <td>不计收支</td>\n",
       "      <td>交易成功</td>\n",
       "      <td>即时到账交易</td>\n",
       "      <td>美团</td>\n",
       "      <td>大众点评订单-23121011100400000021574530283011</td>\n",
       "      <td>5.9</td>\n",
       "      <td>-1</td>\n",
       "      <td>1</td>\n",
       "      <td>-5.9</td>\n",
       "    </tr>\n",
       "    <tr>\n",
       "      <th>1</th>\n",
       "      <td>2023-12-10 14:17:04</td>\n",
       "      <td>12</td>\n",
       "      <td>支付宝</td>\n",
       "      <td>不计收支</td>\n",
       "      <td>交易成功</td>\n",
       "      <td>即时到账交易</td>\n",
       "      <td>上海都畅数字技术有限公司</td>\n",
       "      <td>马当路--商城路</td>\n",
       "      <td>3.0</td>\n",
       "      <td>-1</td>\n",
       "      <td>1</td>\n",
       "      <td>-3.0</td>\n",
       "    </tr>\n",
       "    <tr>\n",
       "      <th>0</th>\n",
       "      <td>2023-12-10 18:17:55</td>\n",
       "      <td>12</td>\n",
       "      <td>支付宝</td>\n",
       "      <td>不计收支</td>\n",
       "      <td>交易成功</td>\n",
       "      <td>即时到账交易</td>\n",
       "      <td>上海都畅数字技术有限公司</td>\n",
       "      <td>商城路--三林东</td>\n",
       "      <td>4.0</td>\n",
       "      <td>-1</td>\n",
       "      <td>1</td>\n",
       "      <td>-4.0</td>\n",
       "    </tr>\n",
       "  </tbody>\n",
       "</table>\n",
       "<p>4220 rows × 12 columns</p>\n",
       "</div>"
      ],
      "text/plain": [
       "                     交易时间  月份   来源   收/支  支付状态       类型  \\\n",
       "4204  2020-12-01 10:31:33  12  支付宝  不计收支  交易成功   即时到账交易   \n",
       "4203  2020-12-01 13:32:39  12  支付宝  不计收支  交易成功  支付宝担保交易   \n",
       "4202  2020-12-01 13:37:35  12  支付宝    支出  交易成功   即时到账交易   \n",
       "4201  2020-12-01 21:53:47  12  支付宝  不计收支  交易成功   即时到账交易   \n",
       "4200  2020-12-01 21:54:36  12  支付宝  不计收支  交易成功   即时到账交易   \n",
       "...                   ...  ..  ...   ...   ...      ...   \n",
       "4     2023-12-09 20:16:12  12  支付宝    支出  交易成功   即时到账交易   \n",
       "3     2023-12-10 13:13:45  12  支付宝  不计收支  交易成功   即时到账交易   \n",
       "2     2023-12-10 13:21:41  12  支付宝  不计收支  交易成功   即时到账交易   \n",
       "1     2023-12-10 14:17:04  12  支付宝  不计收支  交易成功   即时到账交易   \n",
       "0     2023-12-10 18:17:55  12  支付宝  不计收支  交易成功   即时到账交易   \n",
       "\n",
       "                         交易对方                                       商品    金额  \\\n",
       "4204      蚂蚁财富-蚂蚁（杭州）基金销售有限公司                        蚂蚁财富-天弘中证银行指数A-买入  23.0   \n",
       "4203               ellen0wang            基础综合英语 学生用书   研究生英语教材 pdf版电子书   5.5   \n",
       "4202  App Store & Apple Music    App Store & Apple Music: 于 11.30完成的购买   3.0   \n",
       "4201            麦当劳(深南西路分店餐厅)                           麦当劳餐厅(深圳) 有限公司   6.0   \n",
       "4200            麦当劳(深南西路分店餐厅)                           麦当劳餐厅(深圳) 有限公司   0.1   \n",
       "...                       ...                                      ...   ...   \n",
       "4                       Valve             S2P1172140557 Steam Purchase  15.8   \n",
       "3                上海都畅数字技术有限公司                                三林东--西藏南路   4.0   \n",
       "2                          美团  大众点评订单-23121011100400000021574530283011   5.9   \n",
       "1                上海都畅数字技术有限公司                                 马当路--商城路   3.0   \n",
       "0                上海都畅数字技术有限公司                                 商城路--三林东   4.0   \n",
       "\n",
       "      逻辑1  逻辑2  乘后金额  \n",
       "4204   -1    1 -23.0  \n",
       "4203   -1    1  -5.5  \n",
       "4202   -1    1  -3.0  \n",
       "4201   -1    1  -6.0  \n",
       "4200   -1    1  -0.1  \n",
       "...   ...  ...   ...  \n",
       "4      -1    1 -15.8  \n",
       "3      -1    1  -4.0  \n",
       "2      -1    1  -5.9  \n",
       "1      -1    1  -3.0  \n",
       "0      -1    1  -4.0  \n",
       "\n",
       "[4220 rows x 12 columns]"
      ]
     },
     "execution_count": 9,
     "metadata": {},
     "output_type": "execute_result"
    }
   ],
   "source": [
    "data_merge.sort_values('交易时间')"
   ]
  },
  {
   "cell_type": "code",
   "execution_count": 10,
   "metadata": {},
   "outputs": [],
   "source": [
    "data_merge.to_csv(r'D:\\Projects\\Accounts\\Dataloader\\his\\History_records_alipay.csv')"
   ]
  },
  {
   "cell_type": "markdown",
   "metadata": {},
   "source": [
    "### Analysis: Daily expense is the most available way to quantify behaviours. Here is the following steps:\n",
    "1. Create a set that useful to collect your expense.\n",
    "2. Categorize the expense by rows.\n",
    "3. Do your individual analysis with some visualization."
   ]
  },
  {
   "cell_type": "markdown",
   "metadata": {},
   "source": [
    "#### My set (this part would be the key, it reflects your value system.\n",
    "['必要性食品','非必要性食品','交通','一般耐用品','电子耐用品','订阅类信息服务或娱乐产品','线下娱乐或休闲','其他']"
   ]
  },
  {
   "cell_type": "markdown",
   "metadata": {},
   "source": [
    "#### GPT-4.0 works.\n",
    "- OpenAI's GPT4 API works in this situation.\n",
    "- Time & Financial cost almost unavailable but still ok."
   ]
  },
  {
   "cell_type": "code",
   "execution_count": 4,
   "metadata": {},
   "outputs": [],
   "source": [
    "# read api key\n",
    "with open(r'D:\\accounts_key.txt','r') as key_file:\n",
    "    OPENAI_API_KEY = key_file.readline()\n",
    "\n",
    "import os\n",
    "import openai \n",
    "\n",
    "openai.api_key = OPENAI_API_KEY"
   ]
  },
  {
   "cell_type": "code",
   "execution_count": 5,
   "metadata": {},
   "outputs": [],
   "source": [
    "# read bills record\n",
    "bill_df = pd.read_csv(r'D:\\Projects\\Accounts\\Dataloader\\his\\History_records_alipay.csv', index_col=0)"
   ]
  },
  {
   "cell_type": "code",
   "execution_count": 11,
   "metadata": {},
   "outputs": [],
   "source": [
    "# Bill\n",
    "class Bill(object):\n",
    "    def __init__(\n",
    "        self,\n",
    "        row:pd.core.series.Series,\n",
    "        ):\n",
    "        '''\n",
    "        Categorization by row.\n",
    "        '''\n",
    "        self.row = row\n",
    "        self.txt_eles = row.loc[['交易时间','交易对方','商品','金额']].values\n",
    "        self.head_txts = '这是我的交易记录:' \n",
    "        self.txts = f'在{self.txt_eles[0]}, 我花费了{self.txt_eles[-1] }元人民币向{self.txt_eles[1]} 购买了{self.txt_eles[2]}。'\n",
    "        self.tail_txts = \\\n",
    "        '''请帮我将这笔订单记录分类（只返回类别名称，如果难以判断则归类为“其他”），在以下类别 [食品,交通,耐用品,订阅类信息服务或娱乐产品,线下娱乐或休闲,理财] 中，上面这个订单属于哪一类?'''\n",
    "        self.asking_texts = self.head_txts + self.txts + self.tail_txts\n",
    "    \n",
    "    # classifier\n",
    "    def classify_expense(self):\n",
    "        # try:\n",
    "        response = openai.ChatCompletion.create(\n",
    "            model='gpt-4-1106-preview',\n",
    "            messages=[{\"role\": \"system\", \"content\": \"你是一个根据订单记录对订单进行分类的智能助力，你言简意赅。你擅长结合交易对方的名称，交易发生的时间，交易金额判断支出类型。\"},\n",
    "                    {\"role\": \"user\", \"content\": self.asking_texts}],\n",
    "            max_tokens=16\n",
    "        )\n",
    "        return response['choices'][0]['message']['content']\n"
   ]
  },
  {
   "cell_type": "code",
   "execution_count": 12,
   "metadata": {},
   "outputs": [
    {
     "data": {
      "text/html": [
       "<div>\n",
       "<style scoped>\n",
       "    .dataframe tbody tr th:only-of-type {\n",
       "        vertical-align: middle;\n",
       "    }\n",
       "\n",
       "    .dataframe tbody tr th {\n",
       "        vertical-align: top;\n",
       "    }\n",
       "\n",
       "    .dataframe thead th {\n",
       "        text-align: right;\n",
       "    }\n",
       "</style>\n",
       "<table border=\"1\" class=\"dataframe\">\n",
       "  <thead>\n",
       "    <tr style=\"text-align: right;\">\n",
       "      <th></th>\n",
       "      <th>交易时间</th>\n",
       "      <th>月份</th>\n",
       "      <th>来源</th>\n",
       "      <th>收/支</th>\n",
       "      <th>支付状态</th>\n",
       "      <th>类型</th>\n",
       "      <th>交易对方</th>\n",
       "      <th>商品</th>\n",
       "      <th>金额</th>\n",
       "      <th>逻辑1</th>\n",
       "      <th>逻辑2</th>\n",
       "      <th>乘后金额</th>\n",
       "    </tr>\n",
       "    <tr>\n",
       "      <th>时间</th>\n",
       "      <th></th>\n",
       "      <th></th>\n",
       "      <th></th>\n",
       "      <th></th>\n",
       "      <th></th>\n",
       "      <th></th>\n",
       "      <th></th>\n",
       "      <th></th>\n",
       "      <th></th>\n",
       "      <th></th>\n",
       "      <th></th>\n",
       "      <th></th>\n",
       "    </tr>\n",
       "  </thead>\n",
       "  <tbody>\n",
       "    <tr>\n",
       "      <th>2020-12-01 10:31:33</th>\n",
       "      <td>2020-12-01 10:31:33</td>\n",
       "      <td>12</td>\n",
       "      <td>支付宝</td>\n",
       "      <td>不计收支</td>\n",
       "      <td>交易成功</td>\n",
       "      <td>即时到账交易</td>\n",
       "      <td>蚂蚁财富-蚂蚁（杭州）基金销售有限公司</td>\n",
       "      <td>蚂蚁财富-天弘中证银行指数A-买入</td>\n",
       "      <td>23.0</td>\n",
       "      <td>-1</td>\n",
       "      <td>1</td>\n",
       "      <td>-23.0</td>\n",
       "    </tr>\n",
       "    <tr>\n",
       "      <th>2020-12-01 13:32:39</th>\n",
       "      <td>2020-12-01 13:32:39</td>\n",
       "      <td>12</td>\n",
       "      <td>支付宝</td>\n",
       "      <td>不计收支</td>\n",
       "      <td>交易成功</td>\n",
       "      <td>支付宝担保交易</td>\n",
       "      <td>ellen0wang</td>\n",
       "      <td>基础综合英语 学生用书   研究生英语教材 pdf版电子书</td>\n",
       "      <td>5.5</td>\n",
       "      <td>-1</td>\n",
       "      <td>1</td>\n",
       "      <td>-5.5</td>\n",
       "    </tr>\n",
       "    <tr>\n",
       "      <th>2020-12-01 13:37:35</th>\n",
       "      <td>2020-12-01 13:37:35</td>\n",
       "      <td>12</td>\n",
       "      <td>支付宝</td>\n",
       "      <td>支出</td>\n",
       "      <td>交易成功</td>\n",
       "      <td>即时到账交易</td>\n",
       "      <td>App Store &amp; Apple Music</td>\n",
       "      <td>App Store &amp; Apple Music: 于 11.30完成的购买</td>\n",
       "      <td>3.0</td>\n",
       "      <td>-1</td>\n",
       "      <td>1</td>\n",
       "      <td>-3.0</td>\n",
       "    </tr>\n",
       "    <tr>\n",
       "      <th>2020-12-01 21:53:47</th>\n",
       "      <td>2020-12-01 21:53:47</td>\n",
       "      <td>12</td>\n",
       "      <td>支付宝</td>\n",
       "      <td>不计收支</td>\n",
       "      <td>交易成功</td>\n",
       "      <td>即时到账交易</td>\n",
       "      <td>麦当劳(深南西路分店餐厅)</td>\n",
       "      <td>麦当劳餐厅(深圳) 有限公司</td>\n",
       "      <td>6.0</td>\n",
       "      <td>-1</td>\n",
       "      <td>1</td>\n",
       "      <td>-6.0</td>\n",
       "    </tr>\n",
       "    <tr>\n",
       "      <th>2020-12-01 21:54:36</th>\n",
       "      <td>2020-12-01 21:54:36</td>\n",
       "      <td>12</td>\n",
       "      <td>支付宝</td>\n",
       "      <td>不计收支</td>\n",
       "      <td>交易成功</td>\n",
       "      <td>即时到账交易</td>\n",
       "      <td>麦当劳(深南西路分店餐厅)</td>\n",
       "      <td>麦当劳餐厅(深圳) 有限公司</td>\n",
       "      <td>0.1</td>\n",
       "      <td>-1</td>\n",
       "      <td>1</td>\n",
       "      <td>-0.1</td>\n",
       "    </tr>\n",
       "    <tr>\n",
       "      <th>...</th>\n",
       "      <td>...</td>\n",
       "      <td>...</td>\n",
       "      <td>...</td>\n",
       "      <td>...</td>\n",
       "      <td>...</td>\n",
       "      <td>...</td>\n",
       "      <td>...</td>\n",
       "      <td>...</td>\n",
       "      <td>...</td>\n",
       "      <td>...</td>\n",
       "      <td>...</td>\n",
       "      <td>...</td>\n",
       "    </tr>\n",
       "    <tr>\n",
       "      <th>2023-12-09 20:16:12</th>\n",
       "      <td>2023-12-09 20:16:12</td>\n",
       "      <td>12</td>\n",
       "      <td>支付宝</td>\n",
       "      <td>支出</td>\n",
       "      <td>交易成功</td>\n",
       "      <td>即时到账交易</td>\n",
       "      <td>Valve</td>\n",
       "      <td>S2P1172140557 Steam Purchase</td>\n",
       "      <td>15.8</td>\n",
       "      <td>-1</td>\n",
       "      <td>1</td>\n",
       "      <td>-15.8</td>\n",
       "    </tr>\n",
       "    <tr>\n",
       "      <th>2023-12-10 13:13:45</th>\n",
       "      <td>2023-12-10 13:13:45</td>\n",
       "      <td>12</td>\n",
       "      <td>支付宝</td>\n",
       "      <td>不计收支</td>\n",
       "      <td>交易成功</td>\n",
       "      <td>即时到账交易</td>\n",
       "      <td>上海都畅数字技术有限公司</td>\n",
       "      <td>三林东--西藏南路</td>\n",
       "      <td>4.0</td>\n",
       "      <td>-1</td>\n",
       "      <td>1</td>\n",
       "      <td>-4.0</td>\n",
       "    </tr>\n",
       "    <tr>\n",
       "      <th>2023-12-10 13:21:41</th>\n",
       "      <td>2023-12-10 13:21:41</td>\n",
       "      <td>12</td>\n",
       "      <td>支付宝</td>\n",
       "      <td>不计收支</td>\n",
       "      <td>交易成功</td>\n",
       "      <td>即时到账交易</td>\n",
       "      <td>美团</td>\n",
       "      <td>大众点评订单-23121011100400000021574530283011</td>\n",
       "      <td>5.9</td>\n",
       "      <td>-1</td>\n",
       "      <td>1</td>\n",
       "      <td>-5.9</td>\n",
       "    </tr>\n",
       "    <tr>\n",
       "      <th>2023-12-10 14:17:04</th>\n",
       "      <td>2023-12-10 14:17:04</td>\n",
       "      <td>12</td>\n",
       "      <td>支付宝</td>\n",
       "      <td>不计收支</td>\n",
       "      <td>交易成功</td>\n",
       "      <td>即时到账交易</td>\n",
       "      <td>上海都畅数字技术有限公司</td>\n",
       "      <td>马当路--商城路</td>\n",
       "      <td>3.0</td>\n",
       "      <td>-1</td>\n",
       "      <td>1</td>\n",
       "      <td>-3.0</td>\n",
       "    </tr>\n",
       "    <tr>\n",
       "      <th>2023-12-10 18:17:55</th>\n",
       "      <td>2023-12-10 18:17:55</td>\n",
       "      <td>12</td>\n",
       "      <td>支付宝</td>\n",
       "      <td>不计收支</td>\n",
       "      <td>交易成功</td>\n",
       "      <td>即时到账交易</td>\n",
       "      <td>上海都畅数字技术有限公司</td>\n",
       "      <td>商城路--三林东</td>\n",
       "      <td>4.0</td>\n",
       "      <td>-1</td>\n",
       "      <td>1</td>\n",
       "      <td>-4.0</td>\n",
       "    </tr>\n",
       "  </tbody>\n",
       "</table>\n",
       "<p>4220 rows × 12 columns</p>\n",
       "</div>"
      ],
      "text/plain": [
       "                                    交易时间  月份   来源   收/支  支付状态       类型  \\\n",
       "时间                                                                       \n",
       "2020-12-01 10:31:33  2020-12-01 10:31:33  12  支付宝  不计收支  交易成功   即时到账交易   \n",
       "2020-12-01 13:32:39  2020-12-01 13:32:39  12  支付宝  不计收支  交易成功  支付宝担保交易   \n",
       "2020-12-01 13:37:35  2020-12-01 13:37:35  12  支付宝    支出  交易成功   即时到账交易   \n",
       "2020-12-01 21:53:47  2020-12-01 21:53:47  12  支付宝  不计收支  交易成功   即时到账交易   \n",
       "2020-12-01 21:54:36  2020-12-01 21:54:36  12  支付宝  不计收支  交易成功   即时到账交易   \n",
       "...                                  ...  ..  ...   ...   ...      ...   \n",
       "2023-12-09 20:16:12  2023-12-09 20:16:12  12  支付宝    支出  交易成功   即时到账交易   \n",
       "2023-12-10 13:13:45  2023-12-10 13:13:45  12  支付宝  不计收支  交易成功   即时到账交易   \n",
       "2023-12-10 13:21:41  2023-12-10 13:21:41  12  支付宝  不计收支  交易成功   即时到账交易   \n",
       "2023-12-10 14:17:04  2023-12-10 14:17:04  12  支付宝  不计收支  交易成功   即时到账交易   \n",
       "2023-12-10 18:17:55  2023-12-10 18:17:55  12  支付宝  不计收支  交易成功   即时到账交易   \n",
       "\n",
       "                                        交易对方  \\\n",
       "时间                                             \n",
       "2020-12-01 10:31:33      蚂蚁财富-蚂蚁（杭州）基金销售有限公司   \n",
       "2020-12-01 13:32:39               ellen0wang   \n",
       "2020-12-01 13:37:35  App Store & Apple Music   \n",
       "2020-12-01 21:53:47            麦当劳(深南西路分店餐厅)   \n",
       "2020-12-01 21:54:36            麦当劳(深南西路分店餐厅)   \n",
       "...                                      ...   \n",
       "2023-12-09 20:16:12                    Valve   \n",
       "2023-12-10 13:13:45             上海都畅数字技术有限公司   \n",
       "2023-12-10 13:21:41                       美团   \n",
       "2023-12-10 14:17:04             上海都畅数字技术有限公司   \n",
       "2023-12-10 18:17:55             上海都畅数字技术有限公司   \n",
       "\n",
       "                                                          商品    金额  逻辑1  逻辑2  \\\n",
       "时间                                                                             \n",
       "2020-12-01 10:31:33                        蚂蚁财富-天弘中证银行指数A-买入  23.0   -1    1   \n",
       "2020-12-01 13:32:39            基础综合英语 学生用书   研究生英语教材 pdf版电子书   5.5   -1    1   \n",
       "2020-12-01 13:37:35    App Store & Apple Music: 于 11.30完成的购买   3.0   -1    1   \n",
       "2020-12-01 21:53:47                           麦当劳餐厅(深圳) 有限公司   6.0   -1    1   \n",
       "2020-12-01 21:54:36                           麦当劳餐厅(深圳) 有限公司   0.1   -1    1   \n",
       "...                                                      ...   ...  ...  ...   \n",
       "2023-12-09 20:16:12             S2P1172140557 Steam Purchase  15.8   -1    1   \n",
       "2023-12-10 13:13:45                                三林东--西藏南路   4.0   -1    1   \n",
       "2023-12-10 13:21:41  大众点评订单-23121011100400000021574530283011   5.9   -1    1   \n",
       "2023-12-10 14:17:04                                 马当路--商城路   3.0   -1    1   \n",
       "2023-12-10 18:17:55                                 商城路--三林东   4.0   -1    1   \n",
       "\n",
       "                     乘后金额  \n",
       "时间                         \n",
       "2020-12-01 10:31:33 -23.0  \n",
       "2020-12-01 13:32:39  -5.5  \n",
       "2020-12-01 13:37:35  -3.0  \n",
       "2020-12-01 21:53:47  -6.0  \n",
       "2020-12-01 21:54:36  -0.1  \n",
       "...                   ...  \n",
       "2023-12-09 20:16:12 -15.8  \n",
       "2023-12-10 13:13:45  -4.0  \n",
       "2023-12-10 13:21:41  -5.9  \n",
       "2023-12-10 14:17:04  -3.0  \n",
       "2023-12-10 18:17:55  -4.0  \n",
       "\n",
       "[4220 rows x 12 columns]"
      ]
     },
     "execution_count": 12,
     "metadata": {},
     "output_type": "execute_result"
    }
   ],
   "source": [
    "bill_df['时间'] =bill_df['交易时间'].copy() \n",
    "Bills_df = bill_df.set_index('时间').sort_index()\n",
    "Bills_df\n",
    "# Bills_df = bill_df.sort_values('交易时间')"
   ]
  },
  {
   "cell_type": "code",
   "execution_count": 15,
   "metadata": {},
   "outputs": [],
   "source": [
    "# cates = {}"
   ]
  },
  {
   "cell_type": "code",
   "execution_count": 20,
   "metadata": {},
   "outputs": [
    {
     "name": "stderr",
     "output_type": "stream",
     "text": [
      "0it [00:00, ?it/s]"
     ]
    },
    {
     "name": "stdout",
     "output_type": "stream",
     "text": [
      "App Store & Apple Music: 于 11.30完成的购买 订阅类信息服务或娱乐产品\n"
     ]
    },
    {
     "name": "stderr",
     "output_type": "stream",
     "text": [
      "3it [00:04,  1.47s/it]"
     ]
    },
    {
     "name": "stdout",
     "output_type": "stream",
     "text": [
      "麦当劳餐厅(深圳) 有限公司 食品\n"
     ]
    },
    {
     "name": "stderr",
     "output_type": "stream",
     "text": [
      "4it [00:09,  2.56s/it]"
     ]
    },
    {
     "name": "stdout",
     "output_type": "stream",
     "text": [
      "麦当劳餐厅(深圳) 有限公司 食品\n"
     ]
    },
    {
     "name": "stderr",
     "output_type": "stream",
     "text": [
      "5it [00:11,  2.34s/it]"
     ]
    },
    {
     "name": "stdout",
     "output_type": "stream",
     "text": [
      "麦当劳餐厅(深圳) 有限公司 食品\n"
     ]
    },
    {
     "name": "stderr",
     "output_type": "stream",
     "text": [
      "6it [00:14,  2.57s/it]"
     ]
    },
    {
     "name": "stdout",
     "output_type": "stream",
     "text": [
      "【bilibili】现货 万代 鬼灭之刃 炭治郎&amp;祢豆子 Q版手办摆件 耐用品\n"
     ]
    },
    {
     "name": "stderr",
     "output_type": "stream",
     "text": [
      "7it [00:17,  2.69s/it]"
     ]
    },
    {
     "name": "stdout",
     "output_type": "stream",
     "text": [
      "艾漫正版 排球少年周边人物立绘亚克力立牌摆件【现货】 订阅类信息服务或娱乐产品\n"
     ]
    },
    {
     "name": "stderr",
     "output_type": "stream",
     "text": [
      "8it [00:20,  2.92s/it]"
     ]
    },
    {
     "name": "stdout",
     "output_type": "stream",
     "text": [
      "宠物小精灵星之卡比动漫手办神奇宝贝袋装手办车载摆件蛋糕场景版 耐用品\n"
     ]
    },
    {
     "name": "stderr",
     "output_type": "stream",
     "text": [
      "9it [00:23,  2.78s/it]"
     ]
    },
    {
     "name": "stdout",
     "output_type": "stream",
     "text": [
      "蚂蚁财富-天弘中证银行指数A-买入 理财\n"
     ]
    },
    {
     "name": "stderr",
     "output_type": "stream",
     "text": [
      "10it [00:25,  2.54s/it]"
     ]
    },
    {
     "name": "stdout",
     "output_type": "stream",
     "text": [
      "思迅Pay-微信-A超市 食品\n"
     ]
    },
    {
     "name": "stderr",
     "output_type": "stream",
     "text": [
      "11it [00:29,  2.99s/it]"
     ]
    },
    {
     "name": "stdout",
     "output_type": "stream",
     "text": [
      "海贼王手办zero索隆艾斯卡塔库栗路飞公仔摆件周边礼物全套限量版 耐用品\n"
     ]
    },
    {
     "name": "stderr",
     "output_type": "stream",
     "text": [
      "12it [00:31,  2.80s/it]"
     ]
    },
    {
     "name": "stdout",
     "output_type": "stream",
     "text": [
      "思迅Pay-微信-A超市 食品\n"
     ]
    },
    {
     "name": "stderr",
     "output_type": "stream",
     "text": [
      "13it [00:34,  2.83s/it]"
     ]
    },
    {
     "name": "stdout",
     "output_type": "stream",
     "text": [
      "麦当劳餐厅(深圳) 有限公司 食品\n"
     ]
    },
    {
     "name": "stderr",
     "output_type": "stream",
     "text": [
      "14it [00:37,  2.86s/it]"
     ]
    },
    {
     "name": "stdout",
     "output_type": "stream",
     "text": [
      "商品 食品\n"
     ]
    },
    {
     "name": "stderr",
     "output_type": "stream",
     "text": [
      "15it [00:39,  2.63s/it]"
     ]
    },
    {
     "name": "stdout",
     "output_type": "stream",
     "text": [
      "韶音AfterShokz AS800骨传导运动蓝牙耳机骨传感跑步无线Aeropex 耐用品\n"
     ]
    },
    {
     "name": "stderr",
     "output_type": "stream",
     "text": [
      "16it [00:41,  2.44s/it]"
     ]
    },
    {
     "name": "stdout",
     "output_type": "stream",
     "text": [
      "主动还款-花呗2020年12月账单 理财\n"
     ]
    },
    {
     "name": "stderr",
     "output_type": "stream",
     "text": [
      "17it [00:44,  2.74s/it]"
     ]
    },
    {
     "name": "stdout",
     "output_type": "stream",
     "text": [
      "蚂蚁财富-天弘中证银行指数A-买入 理财\n"
     ]
    },
    {
     "name": "stderr",
     "output_type": "stream",
     "text": [
      "18it [00:48,  2.95s/it]"
     ]
    },
    {
     "name": "stdout",
     "output_type": "stream",
     "text": [
      "退款-宠物小精灵星之卡比动漫手办神奇宝贝袋装手办车载摆件蛋糕场景版 耐用品\n"
     ]
    },
    {
     "name": "stderr",
     "output_type": "stream",
     "text": [
      "19it [00:51,  3.02s/it]"
     ]
    },
    {
     "name": "stdout",
     "output_type": "stream",
     "text": [
      "商品 食品\n"
     ]
    },
    {
     "name": "stderr",
     "output_type": "stream",
     "text": [
      "20it [00:55,  3.23s/it]"
     ]
    },
    {
     "name": "stdout",
     "output_type": "stream",
     "text": [
      "商品 食品\n"
     ]
    },
    {
     "name": "stderr",
     "output_type": "stream",
     "text": [
      "21it [00:58,  3.32s/it]"
     ]
    },
    {
     "name": "stdout",
     "output_type": "stream",
     "text": [
      "益田福伴生活超市收银员:606-7038 食品\n"
     ]
    },
    {
     "name": "stderr",
     "output_type": "stream",
     "text": [
      "22it [01:00,  2.93s/it]"
     ]
    },
    {
     "name": "stdout",
     "output_type": "stream",
     "text": [
      "蚂蚁财富-天弘中证银行指数A-买入 理财\n"
     ]
    },
    {
     "name": "stderr",
     "output_type": "stream",
     "text": [
      "23it [01:02,  2.64s/it]"
     ]
    },
    {
     "name": "stdout",
     "output_type": "stream",
     "text": [
      "蚂蚁财富-天弘中证银行指数A-买入 理财\n"
     ]
    },
    {
     "name": "stderr",
     "output_type": "stream",
     "text": [
      "24it [01:06,  3.00s/it]"
     ]
    },
    {
     "name": "stdout",
     "output_type": "stream",
     "text": [
      "条码支付-A 食品\n"
     ]
    },
    {
     "name": "stderr",
     "output_type": "stream",
     "text": [
      "25it [01:10,  3.39s/it]"
     ]
    },
    {
     "name": "stdout",
     "output_type": "stream",
     "text": [
      "深圳市南山区荣润家龙百货商行-支付宝 食品\n"
     ]
    },
    {
     "name": "stderr",
     "output_type": "stream",
     "text": [
      "26it [01:13,  3.04s/it]"
     ]
    },
    {
     "name": "stdout",
     "output_type": "stream",
     "text": [
      "麦当劳餐厅(深圳) 有限公司 食品\n"
     ]
    },
    {
     "name": "stderr",
     "output_type": "stream",
     "text": [
      "27it [01:14,  2.67s/it]"
     ]
    },
    {
     "name": "stdout",
     "output_type": "stream",
     "text": [
      "深圳全家购物 食品\n"
     ]
    },
    {
     "name": "stderr",
     "output_type": "stream",
     "text": [
      "28it [01:17,  2.61s/it]"
     ]
    },
    {
     "name": "stdout",
     "output_type": "stream",
     "text": [
      "转账 其他\n"
     ]
    },
    {
     "name": "stderr",
     "output_type": "stream",
     "text": [
      "29it [01:19,  2.47s/it]"
     ]
    },
    {
     "name": "stdout",
     "output_type": "stream",
     "text": [
      "转账收款到余额宝 理财\n"
     ]
    },
    {
     "name": "stderr",
     "output_type": "stream",
     "text": [
      "30it [01:23,  3.02s/it]"
     ]
    },
    {
     "name": "stdout",
     "output_type": "stream",
     "text": [
      "蚂蚁财富-天弘中证银行指数A-买入 理财\n"
     ]
    },
    {
     "name": "stderr",
     "output_type": "stream",
     "text": [
      "31it [01:25,  2.73s/it]"
     ]
    },
    {
     "name": "stdout",
     "output_type": "stream",
     "text": [
      "益田假日广场B2 线下娱乐或休闲\n"
     ]
    },
    {
     "name": "stderr",
     "output_type": "stream",
     "text": [
      "32it [01:29,  3.08s/it]"
     ]
    },
    {
     "name": "stdout",
     "output_type": "stream",
     "text": [
      "益田福伴生活超市收银员:606-7039 食品\n"
     ]
    },
    {
     "name": "stderr",
     "output_type": "stream",
     "text": [
      "33it [01:32,  3.04s/it]"
     ]
    },
    {
     "name": "stdout",
     "output_type": "stream",
     "text": [
      "GOODS 食品\n"
     ]
    },
    {
     "name": "stderr",
     "output_type": "stream",
     "text": [
      "34it [01:36,  3.31s/it]"
     ]
    },
    {
     "name": "stdout",
     "output_type": "stream",
     "text": [
      "蚂蚁财富-天弘中证银行指数A-买入 理财\n"
     ]
    },
    {
     "name": "stderr",
     "output_type": "stream",
     "text": [
      "35it [01:39,  3.25s/it]"
     ]
    },
    {
     "name": "stdout",
     "output_type": "stream",
     "text": [
      "App Store & Apple Music: 于 12.07完成的购买 订阅类信息服务或娱乐产品\n"
     ]
    },
    {
     "name": "stderr",
     "output_type": "stream",
     "text": [
      "36it [01:43,  3.33s/it]"
     ]
    },
    {
     "name": "stdout",
     "output_type": "stream",
     "text": [
      "益田福伴生活超市收银员:606-7038 食品\n"
     ]
    },
    {
     "name": "stderr",
     "output_type": "stream",
     "text": [
      "37it [01:45,  3.09s/it]"
     ]
    },
    {
     "name": "stdout",
     "output_type": "stream",
     "text": [
      "商品 食品\n"
     ]
    },
    {
     "name": "stderr",
     "output_type": "stream",
     "text": [
      "38it [01:47,  2.76s/it]"
     ]
    },
    {
     "name": "stdout",
     "output_type": "stream",
     "text": [
      "蚂蚁财富-天弘中证银行指数A-买入 理财\n"
     ]
    },
    {
     "name": "stderr",
     "output_type": "stream",
     "text": [
      "39it [01:49,  2.53s/it]"
     ]
    },
    {
     "name": "stdout",
     "output_type": "stream",
     "text": [
      "条码支付-A 食品\n"
     ]
    },
    {
     "name": "stderr",
     "output_type": "stream",
     "text": [
      "40it [01:51,  2.35s/it]"
     ]
    },
    {
     "name": "stdout",
     "output_type": "stream",
     "text": [
      "麦当劳餐厅(深圳) 有限公司 食品\n"
     ]
    },
    {
     "name": "stderr",
     "output_type": "stream",
     "text": [
      "41it [01:53,  2.25s/it]"
     ]
    },
    {
     "name": "stdout",
     "output_type": "stream",
     "text": [
      "深圳全家购物 食品\n"
     ]
    },
    {
     "name": "stderr",
     "output_type": "stream",
     "text": [
      "42it [01:55,  2.15s/it]"
     ]
    },
    {
     "name": "stdout",
     "output_type": "stream",
     "text": [
      "App Store & Apple Music: 于 12.09完成的购买 订阅类信息服务或娱乐产品\n"
     ]
    },
    {
     "name": "stderr",
     "output_type": "stream",
     "text": [
      "43it [01:59,  2.71s/it]"
     ]
    },
    {
     "name": "stdout",
     "output_type": "stream",
     "text": [
      "蚂蚁财富-天弘中证银行指数A-买入 理财\n"
     ]
    },
    {
     "name": "stderr",
     "output_type": "stream",
     "text": [
      "44it [02:01,  2.44s/it]"
     ]
    },
    {
     "name": "stdout",
     "output_type": "stream",
     "text": [
      "思迅Pay-微信-A超市 食品\n"
     ]
    },
    {
     "name": "stderr",
     "output_type": "stream",
     "text": [
      "45it [02:04,  2.58s/it]"
     ]
    },
    {
     "name": "stdout",
     "output_type": "stream",
     "text": [
      "商品 食品\n"
     ]
    },
    {
     "name": "stderr",
     "output_type": "stream",
     "text": [
      "46it [02:07,  2.71s/it]"
     ]
    },
    {
     "name": "stdout",
     "output_type": "stream",
     "text": [
      "【预售】原创款 动物系列开衫 JK制服 学生针织毛衣 加厚 耐用品\n"
     ]
    },
    {
     "name": "stderr",
     "output_type": "stream",
     "text": [
      "47it [02:09,  2.61s/it]"
     ]
    },
    {
     "name": "stdout",
     "output_type": "stream",
     "text": [
      "【现货】原创款 日本学生制服小方领角襟刺绣长袖衬衫校服衬衫 等多件 耐用品\n"
     ]
    },
    {
     "name": "stderr",
     "output_type": "stream",
     "text": [
      "48it [02:12,  2.76s/it]"
     ]
    },
    {
     "name": "stdout",
     "output_type": "stream",
     "text": [
      "桂格原味即食麦片1000g*3 食品\n"
     ]
    },
    {
     "name": "stderr",
     "output_type": "stream",
     "text": [
      "50it [02:15,  2.17s/it]"
     ]
    },
    {
     "name": "stdout",
     "output_type": "stream",
     "text": [
      "金味麦片原味营养麦片懒人代餐速溶燕麦片学生早餐即食冲饮600g 等多件 食品\n"
     ]
    },
    {
     "name": "stderr",
     "output_type": "stream",
     "text": [
      "51it [02:19,  2.47s/it]"
     ]
    },
    {
     "name": "stdout",
     "output_type": "stream",
     "text": [
      "蚂蚁财富-天弘中证银行指数A-买入 理财\n"
     ]
    },
    {
     "name": "stderr",
     "output_type": "stream",
     "text": [
      "52it [02:22,  2.71s/it]"
     ]
    },
    {
     "name": "stdout",
     "output_type": "stream",
     "text": [
      "深圳全家购物 食品\n"
     ]
    },
    {
     "name": "stderr",
     "output_type": "stream",
     "text": [
      "53it [02:24,  2.54s/it]"
     ]
    },
    {
     "name": "stdout",
     "output_type": "stream",
     "text": [
      "美团收银766644605549862912 食品\n"
     ]
    },
    {
     "name": "stderr",
     "output_type": "stream",
     "text": [
      "54it [02:27,  2.59s/it]"
     ]
    },
    {
     "name": "stdout",
     "output_type": "stream",
     "text": [
      "深圳全家购物 食品\n"
     ]
    },
    {
     "name": "stderr",
     "output_type": "stream",
     "text": [
      "55it [02:30,  2.83s/it]"
     ]
    },
    {
     "name": "stdout",
     "output_type": "stream",
     "text": [
      "蚂蚁财富-天弘中证银行指数A-买入 理财\n"
     ]
    },
    {
     "name": "stderr",
     "output_type": "stream",
     "text": [
      "56it [02:32,  2.61s/it]"
     ]
    },
    {
     "name": "stdout",
     "output_type": "stream",
     "text": [
      "麦当劳餐厅(深圳) 有限公司 食品\n"
     ]
    },
    {
     "name": "stderr",
     "output_type": "stream",
     "text": [
      "57it [02:35,  2.71s/it]"
     ]
    },
    {
     "name": "stdout",
     "output_type": "stream",
     "text": [
      "转账 理财\n"
     ]
    },
    {
     "name": "stderr",
     "output_type": "stream",
     "text": [
      "58it [02:39,  2.91s/it]"
     ]
    },
    {
     "name": "stdout",
     "output_type": "stream",
     "text": [
      "广东省天天果品汇 食品\n"
     ]
    },
    {
     "name": "stderr",
     "output_type": "stream",
     "text": [
      "59it [02:41,  2.70s/it]"
     ]
    },
    {
     "name": "stdout",
     "output_type": "stream",
     "text": [
      "条码支付 食品\n"
     ]
    },
    {
     "name": "stderr",
     "output_type": "stream",
     "text": [
      "60it [02:43,  2.50s/it]"
     ]
    },
    {
     "name": "stdout",
     "output_type": "stream",
     "text": [
      "App Store & Apple Music: 于 12.12完成的购买 订阅类信息服务或娱乐产品\n"
     ]
    },
    {
     "name": "stderr",
     "output_type": "stream",
     "text": [
      "61it [02:45,  2.46s/it]"
     ]
    },
    {
     "name": "stdout",
     "output_type": "stream",
     "text": [
      "蚂蚁财富-天弘中证银行ETF联接A-买入 理财\n"
     ]
    },
    {
     "name": "stderr",
     "output_type": "stream",
     "text": [
      "62it [02:47,  2.31s/it]"
     ]
    },
    {
     "name": "stdout",
     "output_type": "stream",
     "text": [
      "蚂蚁财富-天弘中证银行ETF联接A-买入 理财\n"
     ]
    },
    {
     "name": "stderr",
     "output_type": "stream",
     "text": [
      "63it [02:50,  2.48s/it]"
     ]
    },
    {
     "name": "stdout",
     "output_type": "stream",
     "text": [
      "点点肠粉：8元 食品\n"
     ]
    },
    {
     "name": "stderr",
     "output_type": "stream",
     "text": [
      "64it [02:53,  2.72s/it]"
     ]
    },
    {
     "name": "stdout",
     "output_type": "stream",
     "text": [
      "条码支付-B 食品\n"
     ]
    },
    {
     "name": "stderr",
     "output_type": "stream",
     "text": [
      "65it [02:55,  2.46s/it]"
     ]
    },
    {
     "name": "stdout",
     "output_type": "stream",
     "text": [
      "蚂蚁财富-天弘中证银行ETF联接A-买入 理财\n"
     ]
    },
    {
     "name": "stderr",
     "output_type": "stream",
     "text": [
      "66it [02:58,  2.61s/it]"
     ]
    },
    {
     "name": "stdout",
     "output_type": "stream",
     "text": [
      "商品 食品\n"
     ]
    },
    {
     "name": "stderr",
     "output_type": "stream",
     "text": [
      "67it [03:01,  2.72s/it]"
     ]
    },
    {
     "name": "stdout",
     "output_type": "stream",
     "text": [
      "蚂蚁财富-天弘中证银行ETF联接A-买入 理财\n"
     ]
    },
    {
     "name": "stderr",
     "output_type": "stream",
     "text": [
      "68it [03:05,  2.95s/it]"
     ]
    },
    {
     "name": "stdout",
     "output_type": "stream",
     "text": [
      "条码支付-A 食品\n"
     ]
    },
    {
     "name": "stderr",
     "output_type": "stream",
     "text": [
      "69it [03:07,  2.82s/it]"
     ]
    },
    {
     "name": "stdout",
     "output_type": "stream",
     "text": [
      "App Store & Apple Music: 于 12.16完成的购买 订阅类信息服务或娱乐产品\n"
     ]
    },
    {
     "name": "stderr",
     "output_type": "stream",
     "text": [
      "70it [03:10,  2.81s/it]"
     ]
    },
    {
     "name": "stdout",
     "output_type": "stream",
     "text": [
      "支付宝APP支付 线下娱乐或休闲\n"
     ]
    },
    {
     "name": "stderr",
     "output_type": "stream",
     "text": [
      "71it [03:14,  3.17s/it]"
     ]
    },
    {
     "name": "stdout",
     "output_type": "stream",
     "text": [
      "蚂蚁财富-天弘中证银行ETF联接A-买入 理财\n"
     ]
    },
    {
     "name": "stderr",
     "output_type": "stream",
     "text": [
      "72it [03:17,  3.26s/it]"
     ]
    },
    {
     "name": "stdout",
     "output_type": "stream",
     "text": [
      "雀巢香滑咖啡210ml 食品\n"
     ]
    },
    {
     "name": "stderr",
     "output_type": "stream",
     "text": [
      "73it [03:20,  2.89s/it]"
     ]
    },
    {
     "name": "stdout",
     "output_type": "stream",
     "text": [
      "椒气小姐：22.82元 食品\n"
     ]
    },
    {
     "name": "stderr",
     "output_type": "stream",
     "text": [
      "74it [03:22,  2.72s/it]"
     ]
    },
    {
     "name": "stdout",
     "output_type": "stream",
     "text": [
      "益田福伴生活超市收银员:606-7038 食品\n"
     ]
    },
    {
     "name": "stderr",
     "output_type": "stream",
     "text": [
      "75it [03:26,  3.04s/it]"
     ]
    },
    {
     "name": "stdout",
     "output_type": "stream",
     "text": [
      "主动还款-花呗2020年12月账单 理财\n"
     ]
    },
    {
     "name": "stderr",
     "output_type": "stream",
     "text": [
      "76it [03:28,  2.96s/it]"
     ]
    },
    {
     "name": "stdout",
     "output_type": "stream",
     "text": [
      "蚂蚁财富-天弘中证银行ETF联接A-买入 理财\n"
     ]
    },
    {
     "name": "stderr",
     "output_type": "stream",
     "text": [
      "77it [03:32,  3.01s/it]"
     ]
    },
    {
     "name": "stdout",
     "output_type": "stream",
     "text": [
      "充值-普通充值 订阅类信息服务或娱乐产品\n"
     ]
    }
   ],
   "source": [
    "for idx, rcd in tqdm(Bills_df.iterrows()):\n",
    "    if idx in cates.keys():\n",
    "        continue\n",
    "    \n",
    "    one_bill = Bill(rcd)\n",
    "    cates[idx] = one_bill.classify_expense()\n",
    "    print(rcd['商品'],cates[idx])\n",
    "    time.sleep(randint(1,2))\n"
   ]
  },
  {
   "cell_type": "code",
   "execution_count": null,
   "metadata": {},
   "outputs": [
    {
     "data": {
      "text/plain": [
       "{'2020-12-01 10:31:33': '理财', '2020-12-01 13:32:39': '订阅类信息服务或娱乐产品'}"
      ]
     },
     "execution_count": 19,
     "metadata": {},
     "output_type": "execute_result"
    }
   ],
   "source": [
    "cates"
   ]
  },
  {
   "cell_type": "code",
   "execution_count": null,
   "metadata": {},
   "outputs": [],
   "source": [
    "Bills_df['cate'] = pd.Series(cates)"
   ]
  },
  {
   "cell_type": "code",
   "execution_count": null,
   "metadata": {},
   "outputs": [
    {
     "data": {
      "text/html": [
       "<div>\n",
       "<style scoped>\n",
       "    .dataframe tbody tr th:only-of-type {\n",
       "        vertical-align: middle;\n",
       "    }\n",
       "\n",
       "    .dataframe tbody tr th {\n",
       "        vertical-align: top;\n",
       "    }\n",
       "\n",
       "    .dataframe thead th {\n",
       "        text-align: right;\n",
       "    }\n",
       "</style>\n",
       "<table border=\"1\" class=\"dataframe\">\n",
       "  <thead>\n",
       "    <tr style=\"text-align: right;\">\n",
       "      <th></th>\n",
       "      <th>交易时间</th>\n",
       "      <th>月份</th>\n",
       "      <th>来源</th>\n",
       "      <th>收/支</th>\n",
       "      <th>支付状态</th>\n",
       "      <th>类型</th>\n",
       "      <th>交易对方</th>\n",
       "      <th>商品</th>\n",
       "      <th>金额</th>\n",
       "      <th>逻辑1</th>\n",
       "      <th>逻辑2</th>\n",
       "      <th>乘后金额</th>\n",
       "      <th>cate</th>\n",
       "    </tr>\n",
       "    <tr>\n",
       "      <th>时间</th>\n",
       "      <th></th>\n",
       "      <th></th>\n",
       "      <th></th>\n",
       "      <th></th>\n",
       "      <th></th>\n",
       "      <th></th>\n",
       "      <th></th>\n",
       "      <th></th>\n",
       "      <th></th>\n",
       "      <th></th>\n",
       "      <th></th>\n",
       "      <th></th>\n",
       "      <th></th>\n",
       "    </tr>\n",
       "  </thead>\n",
       "  <tbody>\n",
       "    <tr>\n",
       "      <th>2020-12-01 10:31:33</th>\n",
       "      <td>2020-12-01 10:31:33</td>\n",
       "      <td>12</td>\n",
       "      <td>支付宝</td>\n",
       "      <td>不计收支</td>\n",
       "      <td>交易成功</td>\n",
       "      <td>即时到账交易</td>\n",
       "      <td>蚂蚁财富-蚂蚁（杭州）基金销售有限公司</td>\n",
       "      <td>蚂蚁财富-天弘中证银行指数A-买入</td>\n",
       "      <td>23.0</td>\n",
       "      <td>-1</td>\n",
       "      <td>1</td>\n",
       "      <td>-23.0</td>\n",
       "      <td>理财</td>\n",
       "    </tr>\n",
       "    <tr>\n",
       "      <th>2020-12-01 13:32:39</th>\n",
       "      <td>2020-12-01 13:32:39</td>\n",
       "      <td>12</td>\n",
       "      <td>支付宝</td>\n",
       "      <td>不计收支</td>\n",
       "      <td>交易成功</td>\n",
       "      <td>支付宝担保交易</td>\n",
       "      <td>ellen0wang</td>\n",
       "      <td>基础综合英语 学生用书   研究生英语教材 pdf版电子书</td>\n",
       "      <td>5.5</td>\n",
       "      <td>-1</td>\n",
       "      <td>1</td>\n",
       "      <td>-5.5</td>\n",
       "      <td>订阅类信息服务或娱乐产品</td>\n",
       "    </tr>\n",
       "    <tr>\n",
       "      <th>2020-12-01 13:37:35</th>\n",
       "      <td>2020-12-01 13:37:35</td>\n",
       "      <td>12</td>\n",
       "      <td>支付宝</td>\n",
       "      <td>支出</td>\n",
       "      <td>交易成功</td>\n",
       "      <td>即时到账交易</td>\n",
       "      <td>App Store &amp; Apple Music</td>\n",
       "      <td>App Store &amp; Apple Music: 于 11.30完成的购买</td>\n",
       "      <td>3.0</td>\n",
       "      <td>-1</td>\n",
       "      <td>1</td>\n",
       "      <td>-3.0</td>\n",
       "      <td>订阅类信息服务或娱乐产品</td>\n",
       "    </tr>\n",
       "    <tr>\n",
       "      <th>2020-12-01 21:53:47</th>\n",
       "      <td>2020-12-01 21:53:47</td>\n",
       "      <td>12</td>\n",
       "      <td>支付宝</td>\n",
       "      <td>不计收支</td>\n",
       "      <td>交易成功</td>\n",
       "      <td>即时到账交易</td>\n",
       "      <td>麦当劳(深南西路分店餐厅)</td>\n",
       "      <td>麦当劳餐厅(深圳) 有限公司</td>\n",
       "      <td>6.0</td>\n",
       "      <td>-1</td>\n",
       "      <td>1</td>\n",
       "      <td>-6.0</td>\n",
       "      <td>'非必要性食品'</td>\n",
       "    </tr>\n",
       "    <tr>\n",
       "      <th>2020-12-01 21:54:36</th>\n",
       "      <td>2020-12-01 21:54:36</td>\n",
       "      <td>12</td>\n",
       "      <td>支付宝</td>\n",
       "      <td>不计收支</td>\n",
       "      <td>交易成功</td>\n",
       "      <td>即时到账交易</td>\n",
       "      <td>麦当劳(深南西路分店餐厅)</td>\n",
       "      <td>麦当劳餐厅(深圳) 有限公司</td>\n",
       "      <td>0.1</td>\n",
       "      <td>-1</td>\n",
       "      <td>1</td>\n",
       "      <td>-0.1</td>\n",
       "      <td>非必要性食品</td>\n",
       "    </tr>\n",
       "    <tr>\n",
       "      <th>...</th>\n",
       "      <td>...</td>\n",
       "      <td>...</td>\n",
       "      <td>...</td>\n",
       "      <td>...</td>\n",
       "      <td>...</td>\n",
       "      <td>...</td>\n",
       "      <td>...</td>\n",
       "      <td>...</td>\n",
       "      <td>...</td>\n",
       "      <td>...</td>\n",
       "      <td>...</td>\n",
       "      <td>...</td>\n",
       "      <td>...</td>\n",
       "    </tr>\n",
       "    <tr>\n",
       "      <th>2023-12-09 20:16:12</th>\n",
       "      <td>2023-12-09 20:16:12</td>\n",
       "      <td>12</td>\n",
       "      <td>支付宝</td>\n",
       "      <td>支出</td>\n",
       "      <td>交易成功</td>\n",
       "      <td>即时到账交易</td>\n",
       "      <td>Valve</td>\n",
       "      <td>S2P1172140557 Steam Purchase</td>\n",
       "      <td>15.8</td>\n",
       "      <td>-1</td>\n",
       "      <td>1</td>\n",
       "      <td>-15.8</td>\n",
       "      <td>NaN</td>\n",
       "    </tr>\n",
       "    <tr>\n",
       "      <th>2023-12-10 13:13:45</th>\n",
       "      <td>2023-12-10 13:13:45</td>\n",
       "      <td>12</td>\n",
       "      <td>支付宝</td>\n",
       "      <td>不计收支</td>\n",
       "      <td>交易成功</td>\n",
       "      <td>即时到账交易</td>\n",
       "      <td>上海都畅数字技术有限公司</td>\n",
       "      <td>三林东--西藏南路</td>\n",
       "      <td>4.0</td>\n",
       "      <td>-1</td>\n",
       "      <td>1</td>\n",
       "      <td>-4.0</td>\n",
       "      <td>NaN</td>\n",
       "    </tr>\n",
       "    <tr>\n",
       "      <th>2023-12-10 13:21:41</th>\n",
       "      <td>2023-12-10 13:21:41</td>\n",
       "      <td>12</td>\n",
       "      <td>支付宝</td>\n",
       "      <td>不计收支</td>\n",
       "      <td>交易成功</td>\n",
       "      <td>即时到账交易</td>\n",
       "      <td>美团</td>\n",
       "      <td>大众点评订单-23121011100400000021574530283011</td>\n",
       "      <td>5.9</td>\n",
       "      <td>-1</td>\n",
       "      <td>1</td>\n",
       "      <td>-5.9</td>\n",
       "      <td>NaN</td>\n",
       "    </tr>\n",
       "    <tr>\n",
       "      <th>2023-12-10 14:17:04</th>\n",
       "      <td>2023-12-10 14:17:04</td>\n",
       "      <td>12</td>\n",
       "      <td>支付宝</td>\n",
       "      <td>不计收支</td>\n",
       "      <td>交易成功</td>\n",
       "      <td>即时到账交易</td>\n",
       "      <td>上海都畅数字技术有限公司</td>\n",
       "      <td>马当路--商城路</td>\n",
       "      <td>3.0</td>\n",
       "      <td>-1</td>\n",
       "      <td>1</td>\n",
       "      <td>-3.0</td>\n",
       "      <td>NaN</td>\n",
       "    </tr>\n",
       "    <tr>\n",
       "      <th>2023-12-10 18:17:55</th>\n",
       "      <td>2023-12-10 18:17:55</td>\n",
       "      <td>12</td>\n",
       "      <td>支付宝</td>\n",
       "      <td>不计收支</td>\n",
       "      <td>交易成功</td>\n",
       "      <td>即时到账交易</td>\n",
       "      <td>上海都畅数字技术有限公司</td>\n",
       "      <td>商城路--三林东</td>\n",
       "      <td>4.0</td>\n",
       "      <td>-1</td>\n",
       "      <td>1</td>\n",
       "      <td>-4.0</td>\n",
       "      <td>NaN</td>\n",
       "    </tr>\n",
       "  </tbody>\n",
       "</table>\n",
       "<p>4220 rows × 13 columns</p>\n",
       "</div>"
      ],
      "text/plain": [
       "                                    交易时间  月份   来源   收/支  支付状态       类型  \\\n",
       "时间                                                                       \n",
       "2020-12-01 10:31:33  2020-12-01 10:31:33  12  支付宝  不计收支  交易成功   即时到账交易   \n",
       "2020-12-01 13:32:39  2020-12-01 13:32:39  12  支付宝  不计收支  交易成功  支付宝担保交易   \n",
       "2020-12-01 13:37:35  2020-12-01 13:37:35  12  支付宝    支出  交易成功   即时到账交易   \n",
       "2020-12-01 21:53:47  2020-12-01 21:53:47  12  支付宝  不计收支  交易成功   即时到账交易   \n",
       "2020-12-01 21:54:36  2020-12-01 21:54:36  12  支付宝  不计收支  交易成功   即时到账交易   \n",
       "...                                  ...  ..  ...   ...   ...      ...   \n",
       "2023-12-09 20:16:12  2023-12-09 20:16:12  12  支付宝    支出  交易成功   即时到账交易   \n",
       "2023-12-10 13:13:45  2023-12-10 13:13:45  12  支付宝  不计收支  交易成功   即时到账交易   \n",
       "2023-12-10 13:21:41  2023-12-10 13:21:41  12  支付宝  不计收支  交易成功   即时到账交易   \n",
       "2023-12-10 14:17:04  2023-12-10 14:17:04  12  支付宝  不计收支  交易成功   即时到账交易   \n",
       "2023-12-10 18:17:55  2023-12-10 18:17:55  12  支付宝  不计收支  交易成功   即时到账交易   \n",
       "\n",
       "                                        交易对方  \\\n",
       "时间                                             \n",
       "2020-12-01 10:31:33      蚂蚁财富-蚂蚁（杭州）基金销售有限公司   \n",
       "2020-12-01 13:32:39               ellen0wang   \n",
       "2020-12-01 13:37:35  App Store & Apple Music   \n",
       "2020-12-01 21:53:47            麦当劳(深南西路分店餐厅)   \n",
       "2020-12-01 21:54:36            麦当劳(深南西路分店餐厅)   \n",
       "...                                      ...   \n",
       "2023-12-09 20:16:12                    Valve   \n",
       "2023-12-10 13:13:45             上海都畅数字技术有限公司   \n",
       "2023-12-10 13:21:41                       美团   \n",
       "2023-12-10 14:17:04             上海都畅数字技术有限公司   \n",
       "2023-12-10 18:17:55             上海都畅数字技术有限公司   \n",
       "\n",
       "                                                          商品    金额  逻辑1  逻辑2  \\\n",
       "时间                                                                             \n",
       "2020-12-01 10:31:33                        蚂蚁财富-天弘中证银行指数A-买入  23.0   -1    1   \n",
       "2020-12-01 13:32:39            基础综合英语 学生用书   研究生英语教材 pdf版电子书   5.5   -1    1   \n",
       "2020-12-01 13:37:35    App Store & Apple Music: 于 11.30完成的购买   3.0   -1    1   \n",
       "2020-12-01 21:53:47                           麦当劳餐厅(深圳) 有限公司   6.0   -1    1   \n",
       "2020-12-01 21:54:36                           麦当劳餐厅(深圳) 有限公司   0.1   -1    1   \n",
       "...                                                      ...   ...  ...  ...   \n",
       "2023-12-09 20:16:12             S2P1172140557 Steam Purchase  15.8   -1    1   \n",
       "2023-12-10 13:13:45                                三林东--西藏南路   4.0   -1    1   \n",
       "2023-12-10 13:21:41  大众点评订单-23121011100400000021574530283011   5.9   -1    1   \n",
       "2023-12-10 14:17:04                                 马当路--商城路   3.0   -1    1   \n",
       "2023-12-10 18:17:55                                 商城路--三林东   4.0   -1    1   \n",
       "\n",
       "                     乘后金额          cate  \n",
       "时间                                       \n",
       "2020-12-01 10:31:33 -23.0            理财  \n",
       "2020-12-01 13:32:39  -5.5  订阅类信息服务或娱乐产品  \n",
       "2020-12-01 13:37:35  -3.0  订阅类信息服务或娱乐产品  \n",
       "2020-12-01 21:53:47  -6.0      '非必要性食品'  \n",
       "2020-12-01 21:54:36  -0.1        非必要性食品  \n",
       "...                   ...           ...  \n",
       "2023-12-09 20:16:12 -15.8           NaN  \n",
       "2023-12-10 13:13:45  -4.0           NaN  \n",
       "2023-12-10 13:21:41  -5.9           NaN  \n",
       "2023-12-10 14:17:04  -3.0           NaN  \n",
       "2023-12-10 18:17:55  -4.0           NaN  \n",
       "\n",
       "[4220 rows x 13 columns]"
      ]
     },
     "execution_count": 71,
     "metadata": {},
     "output_type": "execute_result"
    }
   ],
   "source": [
    "Bills_df"
   ]
  },
  {
   "cell_type": "code",
   "execution_count": null,
   "metadata": {},
   "outputs": [],
   "source": [
    "Bills_df.to_excel('CateFinishedBill.xlsx')"
   ]
  },
  {
   "cell_type": "markdown",
   "metadata": {},
   "source": [
    "#### For free version, we try using LLAMA-2-70B.\n",
    "- Bad classifying perform.\n",
    "- Same problem with GPT-3.5-turbo, usually return too much more than I ask for.\n",
    "- Sometimes successfully limit the returns."
   ]
  },
  {
   "cell_type": "code",
   "execution_count": 37,
   "metadata": {},
   "outputs": [],
   "source": [
    "import os\n",
    "import replicate"
   ]
  },
  {
   "cell_type": "code",
   "execution_count": 88,
   "metadata": {},
   "outputs": [],
   "source": [
    "output = replicate.run(\n",
    "  \"meta/llama-2-70b-chat:02e509c789964a7ea8736978a43525956ef40397be9033abf9fd2badfe68c9e3\",\n",
    "  input={\n",
    "    \"debug\": False,\n",
    "    \"top_k\": 50,\n",
    "    \"top_p\": 1,\n",
    "    \"prompt\": \"“12:41:20在上海都畅数字技术有限公司购买了三林东--西藏南路”。 For this expense record text, what would you categorize it to? 'food','sanck','transportation','durable goods','electronic'or'subscription-based service' or 'offline entertainment'? Don't say any unnecessary, you must give me ONE WORD of those categories.\",\n",
    "    \"temperature\": 1,\n",
    "    \"system_prompt\": \"You are a good assistant good at categorizing expense base on chinese texts.\",\n",
    "    \"max_new_tokens\": 16,\n",
    "    \"min_new_tokens\": 2\n",
    "  })"
   ]
  },
  {
   "cell_type": "code",
   "execution_count": 89,
   "metadata": {},
   "outputs": [
    {
     "name": "stdout",
     "output_type": "stream",
     "text": [
      " \" Durable goods\""
     ]
    }
   ],
   "source": [
    "for item in output:\n",
    "    print(item, end=\"\")"
   ]
  },
  {
   "cell_type": "markdown",
   "metadata": {},
   "source": []
  }
 ],
 "metadata": {
  "kernelspec": {
   "display_name": "Python 3.9.12 ('base')",
   "language": "python",
   "name": "python3"
  },
  "language_info": {
   "codemirror_mode": {
    "name": "ipython",
    "version": 3
   },
   "file_extension": ".py",
   "mimetype": "text/x-python",
   "name": "python",
   "nbconvert_exporter": "python",
   "pygments_lexer": "ipython3",
   "version": "3.9.12"
  },
  "orig_nbformat": 4,
  "vscode": {
   "interpreter": {
    "hash": "cc0c0ce790b194ba975aa8d26177784a68f365115b55657382143b34a65324fa"
   }
  }
 },
 "nbformat": 4,
 "nbformat_minor": 2
}
